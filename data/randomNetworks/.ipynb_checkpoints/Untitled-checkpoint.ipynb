{
 "cells": [
  {
   "cell_type": "code",
   "execution_count": 1,
   "metadata": {
    "collapsed": true
   },
   "outputs": [],
   "source": [
    "import glob\n",
    "import os\n",
    "import networkx as nx"
   ]
  },
  {
   "cell_type": "markdown",
   "metadata": {},
   "source": [
    "List all the graph6 files contained in the folder"
   ]
  },
  {
   "cell_type": "code",
   "execution_count": 2,
   "metadata": {
    "collapsed": false
   },
   "outputs": [],
   "source": [
    "files = sorted(glob.glob(\"*.graph6\"), reverse=True)"
   ]
  },
  {
   "cell_type": "markdown",
   "metadata": {},
   "source": [
    "Load each file into a variable and write it into a gml file"
   ]
  },
  {
   "cell_type": "code",
   "execution_count": 8,
   "metadata": {
    "collapsed": false
   },
   "outputs": [
    {
     "name": "stdout",
     "output_type": "stream",
     "text": [
      "watts_strogatz_n10_k9_p0.9\n",
      "watts_strogatz_n10_k9_p0.7\n",
      "watts_strogatz_n10_k9_p0.5\n",
      "watts_strogatz_n10_k9_p0.3\n",
      "watts_strogatz_n10_k9_p0.1\n",
      "watts_strogatz_n10_k7_p0.9\n",
      "watts_strogatz_n10_k7_p0.7\n",
      "watts_strogatz_n10_k7_p0.5\n",
      "watts_strogatz_n10_k7_p0.3\n",
      "watts_strogatz_n10_k7_p0.1\n",
      "watts_strogatz_n10_k5_p0.9\n",
      "watts_strogatz_n10_k5_p0.7\n",
      "watts_strogatz_n10_k5_p0.5\n",
      "watts_strogatz_n10_k5_p0.3\n",
      "watts_strogatz_n10_k5_p0.1\n",
      "watts_strogatz_n10_k3_p0.9\n",
      "watts_strogatz_n10_k3_p0.7\n",
      "watts_strogatz_n10_k3_p0.5\n",
      "watts_strogatz_n10_k3_p0.3\n",
      "watts_strogatz_n10_k3_p0.1\n",
      "watts_strogatz_n10_k1_p0.9\n",
      "watts_strogatz_n10_k1_p0.7\n",
      "watts_strogatz_n10_k1_p0.5\n",
      "watts_strogatz_n10_k1_p0.3\n",
      "watts_strogatz_n10_k1_p0.1\n",
      "watts_strogatz_n100_k90_p0.9\n",
      "watts_strogatz_n100_k90_p0.7\n",
      "watts_strogatz_n100_k90_p0.5\n",
      "watts_strogatz_n100_k90_p0.3\n",
      "watts_strogatz_n100_k90_p0.1\n",
      "watts_strogatz_n100_k70_p0.9\n",
      "watts_strogatz_n100_k70_p0.7\n",
      "watts_strogatz_n100_k70_p0.5\n",
      "watts_strogatz_n100_k70_p0.3\n",
      "watts_strogatz_n100_k70_p0.1\n",
      "watts_strogatz_n100_k50_p0.9\n",
      "watts_strogatz_n100_k50_p0.7\n",
      "watts_strogatz_n100_k50_p0.5\n",
      "watts_strogatz_n100_k50_p0.3\n",
      "watts_strogatz_n100_k50_p0.1\n",
      "watts_strogatz_n100_k30_p0.9\n",
      "watts_strogatz_n100_k30_p0.7\n",
      "watts_strogatz_n100_k30_p0.5\n",
      "watts_strogatz_n100_k30_p0.3\n",
      "watts_strogatz_n100_k30_p0.1\n",
      "watts_strogatz_n100_k10_p0.9\n",
      "watts_strogatz_n100_k10_p0.7\n",
      "watts_strogatz_n100_k10_p0.5\n",
      "watts_strogatz_n100_k10_p0.3\n",
      "watts_strogatz_n100_k10_p0.1\n",
      "watts_strogatz_n1000_k900_p0.9\n",
      "watts_strogatz_n1000_k900_p0.7\n",
      "watts_strogatz_n1000_k900_p0.5\n",
      "watts_strogatz_n1000_k900_p0.3\n",
      "watts_strogatz_n1000_k900_p0.1\n",
      "watts_strogatz_n1000_k700_p0.9\n",
      "watts_strogatz_n1000_k700_p0.7\n",
      "watts_strogatz_n1000_k700_p0.5\n",
      "watts_strogatz_n1000_k700_p0.3\n",
      "watts_strogatz_n1000_k700_p0.1\n",
      "watts_strogatz_n1000_k500_p0.9\n",
      "watts_strogatz_n1000_k500_p0.7\n",
      "watts_strogatz_n1000_k500_p0.5\n",
      "watts_strogatz_n1000_k500_p0.3\n",
      "watts_strogatz_n1000_k500_p0.1\n",
      "watts_strogatz_n1000_k300_p0.9\n",
      "watts_strogatz_n1000_k300_p0.7\n",
      "watts_strogatz_n1000_k300_p0.5\n",
      "watts_strogatz_n1000_k300_p0.3\n",
      "watts_strogatz_n1000_k300_p0.1\n",
      "watts_strogatz_n1000_k100_p0.9\n",
      "watts_strogatz_n1000_k100_p0.7\n",
      "watts_strogatz_n1000_k100_p0.5\n",
      "watts_strogatz_n1000_k100_p0.3\n",
      "watts_strogatz_n1000_k100_p0.1\n",
      "erdos_renyi_n10_p0.9\n",
      "erdos_renyi_n10_p0.7\n",
      "erdos_renyi_n10_p0.5\n",
      "erdos_renyi_n10_p0.3\n",
      "erdos_renyi_n10_p0.1\n",
      "erdos_renyi_n100_p0.9\n",
      "erdos_renyi_n100_p0.7\n",
      "erdos_renyi_n100_p0.5\n",
      "erdos_renyi_n100_p0.3\n",
      "erdos_renyi_n100_p0.1\n",
      "erdos_renyi_n1000_p0.9\n",
      "erdos_renyi_n1000_p0.7\n",
      "erdos_renyi_n1000_p0.5\n",
      "erdos_renyi_n1000_p0.3\n",
      "erdos_renyi_n1000_p0.1\n",
      "barabasi_albert_n10_m9\n",
      "barabasi_albert_n10_m7\n",
      "barabasi_albert_n10_m5\n",
      "barabasi_albert_n10_m3\n",
      "barabasi_albert_n10_m1\n",
      "barabasi_albert_n100_m90\n",
      "barabasi_albert_n100_m70\n",
      "barabasi_albert_n100_m50\n",
      "barabasi_albert_n100_m30\n",
      "barabasi_albert_n100_m10\n",
      "barabasi_albert_n1000_m900\n",
      "barabasi_albert_n1000_m700\n",
      "barabasi_albert_n1000_m500\n",
      "barabasi_albert_n1000_m300\n",
      "barabasi_albert_n1000_m100\n"
     ]
    }
   ],
   "source": [
    "for file in files:\n",
    "    print(os.path.basename(file).rsplit(\".\", 1)[0])"
   ]
  },
  {
   "cell_type": "code",
   "execution_count": null,
   "metadata": {
    "collapsed": true
   },
   "outputs": [],
   "source": [
    "for file in files:\n",
    "    g = nx.read_graph6(file)\n",
    "    graph_name = os.path.basename(file).rsplit(\".\", 1)[0]\n",
    "    nx.write_gml(g, graph_name + \".gml\")\n",
    "    "
   ]
  }
 ],
 "metadata": {
  "kernelspec": {
   "display_name": "Python 3",
   "language": "python",
   "name": "python3"
  },
  "language_info": {
   "codemirror_mode": {
    "name": "ipython",
    "version": 3
   },
   "file_extension": ".py",
   "mimetype": "text/x-python",
   "name": "python",
   "nbconvert_exporter": "python",
   "pygments_lexer": "ipython3",
   "version": "3.4.3"
  }
 },
 "nbformat": 4,
 "nbformat_minor": 0
}
