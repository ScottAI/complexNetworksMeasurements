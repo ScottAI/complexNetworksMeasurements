{
 "cells": [
  {
   "cell_type": "markdown",
   "metadata": {},
   "source": [
    "#Networkit vs Networkx "
   ]
  },
  {
   "cell_type": "markdown",
   "metadata": {},
   "source": [
    "The purpouse of this notebook is to compare the eficciency of each library to compute some centrality measures: Degree, Beteweeness, Closeness, Eigenvector.\n",
    "\n",
    "Each time a measure is computed you can observe the time it takes and a list containing the first 15 results of the ranking in format (node_id, measure_value)"
   ]
  },
  {
   "cell_type": "markdown",
   "metadata": {},
   "source": [
    "######  Import the libraries and load the graph to be used"
   ]
  },
  {
   "cell_type": "code",
   "execution_count": 1,
   "metadata": {
    "collapsed": true
   },
   "outputs": [],
   "source": [
    "import networkit as nk\n",
    "import networkx as nx\n",
    "import operator"
   ]
  },
  {
   "cell_type": "code",
   "execution_count": 2,
   "metadata": {
    "collapsed": true
   },
   "outputs": [],
   "source": [
    "name = \"../data/realNetworks/Power grid/power.gml\""
   ]
  },
  {
   "cell_type": "code",
   "execution_count": 3,
   "metadata": {
    "collapsed": false
   },
   "outputs": [],
   "source": [
    "g = nk.readGraph(name, nk.Format.GML)\n",
    "gx = nk.nk2nx(g)"
   ]
  },
  {
   "cell_type": "markdown",
   "metadata": {},
   "source": [
    "-----------------------------\n",
    "### Betweenness"
   ]
  },
  {
   "cell_type": "markdown",
   "metadata": {},
   "source": [
    "#### Compute betweenness using networkx"
   ]
  },
  {
   "cell_type": "code",
   "execution_count": 4,
   "metadata": {
    "collapsed": false,
    "scrolled": true
   },
   "outputs": [
    {
     "name": "stdout",
     "output_type": "stream",
     "text": [
      "CPU times: user 3min 1s, sys: 337 ms, total: 3min 2s\n",
      "Wall time: 3min 2s\n"
     ]
    },
    {
     "data": {
      "text/plain": [
       "[(4164, 0.2884156214793963),\n",
       " (2543, 0.281698123316245),\n",
       " (1243, 0.2796951897344535),\n",
       " (4219, 0.27764988777849753),\n",
       " (2528, 0.2673044750046778),\n",
       " (1267, 0.24827101665302148),\n",
       " (1308, 0.23651669104994388),\n",
       " (1244, 0.20523301004236533),\n",
       " (426, 0.20495396256691495),\n",
       " (2606, 0.20311626353593557),\n",
       " (2594, 0.19230583355335712),\n",
       " (2605, 0.1862957329429392),\n",
       " (69, 0.18412340121277324),\n",
       " (108, 0.17741564211788427),\n",
       " (1167, 0.17112033945509128)]"
      ]
     },
     "execution_count": 4,
     "metadata": {},
     "output_type": "execute_result"
    }
   ],
   "source": [
    "%time nxBet = nx.betweenness_centrality(gx, normalized=True)\n",
    "sorted(nxBet.items(), key=operator.itemgetter(1), reverse=True)[:15]"
   ]
  },
  {
   "cell_type": "markdown",
   "metadata": {},
   "source": [
    "###### Compute betweenness using networkit"
   ]
  },
  {
   "cell_type": "code",
   "execution_count": 5,
   "metadata": {
    "collapsed": false,
    "scrolled": true
   },
   "outputs": [
    {
     "name": "stdout",
     "output_type": "stream",
     "text": [
      "CPU times: user 12.7 s, sys: 16.7 ms, total: 12.7 s\n",
      "Wall time: 4.59 s\n"
     ]
    },
    {
     "data": {
      "text/plain": [
       "[(4164, 0.5768312429587938),\n",
       " (2543, 0.5633962466324896),\n",
       " (1243, 0.5593903794688999),\n",
       " (4219, 0.555299775556987),\n",
       " (2528, 0.5346089500093508),\n",
       " (1267, 0.49654203330605307),\n",
       " (1308, 0.4730333820999036),\n",
       " (1244, 0.41046602008472566),\n",
       " (426, 0.4099079251338286),\n",
       " (2606, 0.40623252707187385),\n",
       " (2594, 0.3846116671067201),\n",
       " (2605, 0.37259146588587067),\n",
       " (69, 0.36824680242554014),\n",
       " (108, 0.35483128423576576),\n",
       " (1167, 0.34224067891018484)]"
      ]
     },
     "execution_count": 5,
     "metadata": {},
     "output_type": "execute_result"
    }
   ],
   "source": [
    "%time betweenness = nk.centrality.Betweenness(g, normalized=True).run()\n",
    "nkBet = betweenness.ranking()\n",
    "sorted(nkBet, key=operator.itemgetter(1), reverse=True)[:15]"
   ]
  },
  {
   "cell_type": "markdown",
   "metadata": {},
   "source": [
    "    NK: total = 12.7s        NX: total = 3min 2s (183s)\n",
    "\n",
    "Como podemos ver para calcular betweenness networkit es más eficiente que networkx en un orden de magnitud."
   ]
  },
  {
   "cell_type": "markdown",
   "metadata": {},
   "source": [
    "______________________________________________\n",
    "### Eigenvector"
   ]
  },
  {
   "cell_type": "markdown",
   "metadata": {},
   "source": [
    "###### Compute eigenvector using networkit"
   ]
  },
  {
   "cell_type": "code",
   "execution_count": 6,
   "metadata": {
    "collapsed": false
   },
   "outputs": [
    {
     "name": "stdout",
     "output_type": "stream",
     "text": [
      "CPU times: user 1.46 s, sys: 6.67 ms, total: 1.47 s\n",
      "Wall time: 546 ms\n"
     ]
    },
    {
     "data": {
      "text/plain": [
       "[(4381, 0.28664670703589046),\n",
       " (4345, 0.27353406103079825),\n",
       " (4336, 0.2475242881990209),\n",
       " (4332, 0.2430144751867278),\n",
       " (4352, 0.23741353099972934),\n",
       " (4384, 0.2225200847391362),\n",
       " (4402, 0.21524248212974462),\n",
       " (4347, 0.2140313072227409),\n",
       " (4395, 0.19680258964341416),\n",
       " (4373, 0.19374538952325013),\n",
       " (4398, 0.18059414552314085),\n",
       " (4361, 0.17973364704986852),\n",
       " (4401, 0.17793493769754218),\n",
       " (4413, 0.17320770724226722),\n",
       " (4408, 0.1660117901252523)]"
      ]
     },
     "execution_count": 6,
     "metadata": {},
     "output_type": "execute_result"
    }
   ],
   "source": [
    "%time eigenvector = nk.centrality.EigenvectorCentrality(g).run()\n",
    "nkEig = eigenvector.ranking()\n",
    "sorted(nkEig, key=operator.itemgetter(1), reverse=True)[:15]"
   ]
  },
  {
   "cell_type": "markdown",
   "metadata": {},
   "source": [
    "###### Compute eigenvector using networkx"
   ]
  },
  {
   "cell_type": "code",
   "execution_count": 7,
   "metadata": {
    "collapsed": false
   },
   "outputs": [
    {
     "name": "stdout",
     "output_type": "stream",
     "text": [
      "CPU times: user 857 ms, sys: 3.33 ms, total: 860 ms\n",
      "Wall time: 865 ms\n"
     ]
    },
    {
     "data": {
      "text/plain": [
       "[(4381, 0.28654779326719626),\n",
       " (4345, 0.27441484972069885),\n",
       " (4336, 0.24815058029004833),\n",
       " (4332, 0.2429173678578642),\n",
       " (4352, 0.23638918982053217),\n",
       " (4384, 0.2214314447525528),\n",
       " (4402, 0.21480827911882583),\n",
       " (4347, 0.21410511011261296),\n",
       " (4395, 0.19772372883577932),\n",
       " (4373, 0.19468152174720804),\n",
       " (4361, 0.1805642233235685),\n",
       " (4398, 0.18033539417727554),\n",
       " (4401, 0.17708588734382957),\n",
       " (4413, 0.17247182475629233),\n",
       " (4408, 0.16532820596420036)]"
      ]
     },
     "execution_count": 7,
     "metadata": {},
     "output_type": "execute_result"
    }
   ],
   "source": [
    "%time nxEig = nx.eigenvector_centrality(gx)\n",
    "sorted(nxEig.items(), key=operator.itemgetter(1), reverse=True)[:15]"
   ]
  },
  {
   "cell_type": "markdown",
   "metadata": {},
   "source": [
    "    NK: total = 1.47s        NX: total = 860 ms\n",
    "\n",
    "Networkx puede calcular betweenness aproximadamente 2 veces más rápido que networkit."
   ]
  },
  {
   "cell_type": "markdown",
   "metadata": {},
   "source": [
    "______________________________________________\n",
    "### Degree"
   ]
  },
  {
   "cell_type": "markdown",
   "metadata": {},
   "source": [
    "###### Degree centrality using networkx"
   ]
  },
  {
   "cell_type": "code",
   "execution_count": 8,
   "metadata": {
    "collapsed": false
   },
   "outputs": [
    {
     "name": "stdout",
     "output_type": "stream",
     "text": [
      "CPU times: user 3.33 ms, sys: 3.33 ms, total: 6.67 ms\n",
      "Wall time: 7.2 ms\n"
     ]
    },
    {
     "data": {
      "text/plain": [
       "[(2553, 0.003846153846153846),\n",
       " (4458, 0.0036437246963562753),\n",
       " (831, 0.0028340080971659917),\n",
       " (3468, 0.0028340080971659917),\n",
       " (4345, 0.0028340080971659917),\n",
       " (2382, 0.002631578947368421),\n",
       " (2542, 0.002631578947368421),\n",
       " (2575, 0.002631578947368421),\n",
       " (2585, 0.002631578947368421),\n",
       " (3895, 0.002631578947368421),\n",
       " (1224, 0.00242914979757085),\n",
       " (2434, 0.00242914979757085),\n",
       " (2439, 0.00242914979757085),\n",
       " (2617, 0.00242914979757085),\n",
       " (2662, 0.00242914979757085)]"
      ]
     },
     "execution_count": 8,
     "metadata": {},
     "output_type": "execute_result"
    }
   ],
   "source": [
    "%time nxDeg = nx.degree_centrality(gx)\n",
    "sorted(nxDeg.items(), key=operator.itemgetter(1), reverse=True)[:15]"
   ]
  },
  {
   "cell_type": "markdown",
   "metadata": {},
   "source": [
    "###### Degree centrality using networkit"
   ]
  },
  {
   "cell_type": "code",
   "execution_count": 9,
   "metadata": {
    "collapsed": false
   },
   "outputs": [
    {
     "name": "stdout",
     "output_type": "stream",
     "text": [
      "CPU times: user 10 ms, sys: 0 ns, total: 10 ms\n",
      "Wall time: 4.54 ms\n"
     ]
    },
    {
     "data": {
      "text/plain": [
       "[(2553, 19.0),\n",
       " (4458, 18.0),\n",
       " (831, 14.0),\n",
       " (4345, 14.0),\n",
       " (3468, 14.0),\n",
       " (2542, 13.0),\n",
       " (2382, 13.0),\n",
       " (2575, 13.0),\n",
       " (3895, 13.0),\n",
       " (2585, 13.0),\n",
       " (1224, 12.0),\n",
       " (2434, 12.0),\n",
       " (2439, 12.0),\n",
       " (2662, 12.0),\n",
       " (2617, 12.0)]"
      ]
     },
     "execution_count": 9,
     "metadata": {},
     "output_type": "execute_result"
    }
   ],
   "source": [
    "%time degree = nk.centrality.DegreeCentrality(g).run()\n",
    "nkDeg = degree.ranking()\n",
    "sorted(nkDeg, key=operator.itemgetter(1), reverse=True)[:15]"
   ]
  },
  {
   "cell_type": "markdown",
   "metadata": {},
   "source": [
    "    NK: total = 10 ms        NX: total = 3.33 ms\n",
    "\n",
    "Networkx puede calcular la centralidad de grado aproximadamente 3 veces más rápido que networkit."
   ]
  },
  {
   "cell_type": "markdown",
   "metadata": {},
   "source": [
    "______________________________________________\n",
    "### Closeness"
   ]
  },
  {
   "cell_type": "markdown",
   "metadata": {},
   "source": [
    "###### Closeness centrality using networkx"
   ]
  },
  {
   "cell_type": "code",
   "execution_count": 10,
   "metadata": {
    "collapsed": false
   },
   "outputs": [
    {
     "name": "stdout",
     "output_type": "stream",
     "text": [
      "CPU times: user 43.4 s, sys: 3.33 ms, total: 43.4 s\n",
      "Wall time: 43.4 s\n"
     ]
    },
    {
     "data": {
      "text/plain": [
       "[(1308, 0.08182330142114155),\n",
       " (2594, 0.0809437981320662),\n",
       " (2605, 0.08035786905246035),\n",
       " (1131, 0.07987194619153098),\n",
       " (2606, 0.0796260477111541),\n",
       " (1243, 0.07932684587468285),\n",
       " (1476, 0.07918570169111165),\n",
       " (2557, 0.07911468426194328),\n",
       " (2528, 0.07877280265339967),\n",
       " (2532, 0.07803121248499399),\n",
       " (2612, 0.07802751496580373),\n",
       " (2543, 0.07802628253727571),\n",
       " (4219, 0.07729377894605081),\n",
       " (1125, 0.07720680170042511),\n",
       " (2618, 0.07718388200553099)]"
      ]
     },
     "execution_count": 10,
     "metadata": {},
     "output_type": "execute_result"
    }
   ],
   "source": [
    "%time nxClos = nx.closeness_centrality(gx)\n",
    "sorted(nxClos.items(), key=operator.itemgetter(1), reverse=True)[:15]"
   ]
  },
  {
   "cell_type": "markdown",
   "metadata": {},
   "source": [
    "###### Closeness centrality using networkit"
   ]
  },
  {
   "cell_type": "code",
   "execution_count": 11,
   "metadata": {
    "collapsed": false
   },
   "outputs": [
    {
     "name": "stdout",
     "output_type": "stream",
     "text": [
      "CPU times: user 6.59 s, sys: 0 ns, total: 6.59 s\n",
      "Wall time: 2.37 s\n"
     ]
    },
    {
     "data": {
      "text/plain": [
       "[(1308, 1.6563421340312053e-05),\n",
       " (2594, 1.6385384237260363e-05),\n",
       " (2605, 1.6266775111834078e-05),\n",
       " (1131, 1.6168410160228943e-05),\n",
       " (2606, 1.6118633139909736e-05),\n",
       " (1243, 1.605806596653499e-05),\n",
       " (1476, 1.60294942694558e-05),\n",
       " (2557, 1.6015118271648438e-05),\n",
       " (2528, 1.594591146829953e-05),\n",
       " (2532, 1.579579200101093e-05),\n",
       " (2612, 1.5795043515344886e-05),\n",
       " (2543, 1.579479403588577e-05),\n",
       " (4219, 1.5646513956690448e-05),\n",
       " (1125, 1.5628907226806703e-05),\n",
       " (2618, 1.5624267612455665e-05)]"
      ]
     },
     "execution_count": 11,
     "metadata": {},
     "output_type": "execute_result"
    }
   ],
   "source": [
    "%time closeness = nk.centrality.Closeness(g).run()\n",
    "nkClo = closeness.ranking()\n",
    "sorted(nkClo, key=operator.itemgetter(1), reverse=True)[:15]"
   ]
  },
  {
   "cell_type": "markdown",
   "metadata": {},
   "source": [
    "    NK: total = 6.59 s        NX: total = 43.4 s (3280 ms)\n",
    "\n",
    "Networkit es aproximadamente 6 veces más rápido que networkx para calcular closeness."
   ]
  },
  {
   "cell_type": "markdown",
   "metadata": {},
   "source": [
    "##  Conclusion"
   ]
  },
  {
   "cell_type": "markdown",
   "metadata": {},
   "source": [
    "Networkit es mas rápido calculando:\n",
    "* Betweeness ( ~ 15x) \n",
    "* Closeness  ( ~ 6x)\n",
    "\n",
    "Networkx es más eficiente para calcular:\n",
    "* Degree ( ~ 3x)\n",
    "* Eigenvector ( ~ 1.7x)\n",
    "\n",
    "------ Falta formular porque la elección de networkx -----------"
   ]
  }
 ],
 "metadata": {
  "kernelspec": {
   "display_name": "Python 3",
   "language": "python",
   "name": "python3"
  },
  "language_info": {
   "codemirror_mode": {
    "name": "ipython",
    "version": 3
   },
   "file_extension": ".py",
   "mimetype": "text/x-python",
   "name": "python",
   "nbconvert_exporter": "python",
   "pygments_lexer": "ipython3",
   "version": "3.4.3"
  }
 },
 "nbformat": 4,
 "nbformat_minor": 0
}
