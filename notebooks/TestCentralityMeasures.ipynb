{
 "cells": [
  {
   "cell_type": "code",
   "execution_count": 1,
   "metadata": {
    "collapsed": true
   },
   "outputs": [],
   "source": [
    "import networkit as nk\n",
    "import networkx as nx\n",
    "import operator"
   ]
  },
  {
   "cell_type": "markdown",
   "metadata": {},
   "source": [
    "###### Load a graph "
   ]
  },
  {
   "cell_type": "code",
   "execution_count": 44,
   "metadata": {
    "collapsed": true
   },
   "outputs": [],
   "source": [
    "name = \"Email network/email.gml\""
   ]
  },
  {
   "cell_type": "code",
   "execution_count": 37,
   "metadata": {
    "collapsed": true
   },
   "outputs": [],
   "source": [
    "name = \"Power grid/power.gml\""
   ]
  },
  {
   "cell_type": "code",
   "execution_count": 45,
   "metadata": {
    "collapsed": false
   },
   "outputs": [],
   "source": [
    "g = nk.readGraph(name, nk.Format.GML)\n",
    "gx = nk.nk2nx(g)"
   ]
  },
  {
   "cell_type": "markdown",
   "metadata": {},
   "source": [
    "## Betweenness"
   ]
  },
  {
   "cell_type": "markdown",
   "metadata": {},
   "source": [
    "#### Compute betweenness using networkx"
   ]
  },
  {
   "cell_type": "code",
   "execution_count": 8,
   "metadata": {
    "collapsed": false,
    "scrolled": true
   },
   "outputs": [
    {
     "name": "stdout",
     "output_type": "stream",
     "text": [
      "CPU times: user 3min 3s, sys: 313 ms, total: 3min 3s\n",
      "Wall time: 3min 7s\n"
     ]
    },
    {
     "data": {
      "text/plain": [
       "[(4164, 0.2884156214793963),\n",
       " (2543, 0.281698123316245),\n",
       " (1243, 0.2796951897344535),\n",
       " (4219, 0.27764988777849753),\n",
       " (2528, 0.2673044750046778),\n",
       " (1267, 0.24827101665302148),\n",
       " (1308, 0.23651669104994388),\n",
       " (1244, 0.20523301004236533),\n",
       " (426, 0.20495396256691495),\n",
       " (2606, 0.20311626353593557),\n",
       " (2594, 0.19230583355335712),\n",
       " (2605, 0.1862957329429392),\n",
       " (69, 0.18412340121277324),\n",
       " (108, 0.17741564211788427),\n",
       " (1167, 0.17112033945509128)]"
      ]
     },
     "execution_count": 8,
     "metadata": {},
     "output_type": "execute_result"
    }
   ],
   "source": [
    "%time nxBet = nx.betweenness_centrality(gx, normalized=True)\n",
    "sorted(nxBet.items(), key=operator.itemgetter(1), reverse=True)[:15]"
   ]
  },
  {
   "cell_type": "markdown",
   "metadata": {},
   "source": [
    "###### Compute betweenness using networkit"
   ]
  },
  {
   "cell_type": "code",
   "execution_count": 6,
   "metadata": {
    "collapsed": false,
    "scrolled": true
   },
   "outputs": [
    {
     "name": "stdout",
     "output_type": "stream",
     "text": [
      "CPU times: user 12.5 s, sys: 10 ms, total: 12.5 s\n",
      "Wall time: 6.72 s\n"
     ]
    },
    {
     "data": {
      "text/plain": [
       "[(4164, 0.5768312429587942),\n",
       " (2543, 0.56339624663249),\n",
       " (1243, 0.5593903794689024),\n",
       " (4219, 0.5552997755569871),\n",
       " (2528, 0.5346089500093509),\n",
       " (1267, 0.49654203330605257),\n",
       " (1308, 0.47303338209990375),\n",
       " (1244, 0.4104660200847253),\n",
       " (426, 0.40990792513382907),\n",
       " (2606, 0.4062325270718753),\n",
       " (2594, 0.38461166710671973),\n",
       " (2605, 0.37259146588586983),\n",
       " (69, 0.36824680242553953),\n",
       " (108, 0.3548312842357654),\n",
       " (1167, 0.3422406789101845)]"
      ]
     },
     "execution_count": 6,
     "metadata": {},
     "output_type": "execute_result"
    }
   ],
   "source": [
    "%time betweenness = nk.centrality.Betweenness(g, normalized=True).run()\n",
    "nkBet = betweenness.ranking()\n",
    "sorted(nkBet, key=operator.itemgetter(1), reverse=True)[:15]"
   ]
  },
  {
   "cell_type": "markdown",
   "metadata": {},
   "source": [
    "Como podemos ver para calcular betweenness networkit es más eficiente que networkx en un orden de magnitud."
   ]
  },
  {
   "cell_type": "markdown",
   "metadata": {},
   "source": [
    "## Eigenvector"
   ]
  },
  {
   "cell_type": "markdown",
   "metadata": {},
   "source": [
    "###### Compute eigenvector using networkit"
   ]
  },
  {
   "cell_type": "code",
   "execution_count": 7,
   "metadata": {
    "collapsed": false
   },
   "outputs": [
    {
     "name": "stdout",
     "output_type": "stream",
     "text": [
      "CPU times: user 1.45 s, sys: 16.7 ms, total: 1.46 s\n",
      "Wall time: 1.28 s\n"
     ]
    },
    {
     "data": {
      "text/plain": [
       "[(4381, 0.2866467070358905),\n",
       " (4345, 0.2735340610307983),\n",
       " (4336, 0.2475242881990209),\n",
       " (4332, 0.24301447518672784),\n",
       " (4352, 0.2374135309997293),\n",
       " (4384, 0.22252008473913618),\n",
       " (4402, 0.21524248212974464),\n",
       " (4347, 0.21403130722274097),\n",
       " (4395, 0.19680258964341418),\n",
       " (4373, 0.1937453895232501),\n",
       " (4398, 0.18059414552314085),\n",
       " (4361, 0.17973364704986852),\n",
       " (4401, 0.17793493769754215),\n",
       " (4413, 0.1732077072422672),\n",
       " (4408, 0.16601179012525227)]"
      ]
     },
     "execution_count": 7,
     "metadata": {},
     "output_type": "execute_result"
    }
   ],
   "source": [
    "%time eigenvector = nk.centrality.EigenvectorCentrality(g).run()\n",
    "nkEig = eigenvector.ranking()\n",
    "sorted(nkEig, key=operator.itemgetter(1), reverse=True)[:15]"
   ]
  },
  {
   "cell_type": "markdown",
   "metadata": {},
   "source": [
    "###### Compute eigenvector using networkx"
   ]
  },
  {
   "cell_type": "code",
   "execution_count": 8,
   "metadata": {
    "collapsed": false
   },
   "outputs": [
    {
     "name": "stdout",
     "output_type": "stream",
     "text": [
      "CPU times: user 887 ms, sys: 0 ns, total: 887 ms\n",
      "Wall time: 905 ms\n"
     ]
    },
    {
     "data": {
      "text/plain": [
       "[(4381, 0.28654779326719626),\n",
       " (4345, 0.27441484972069885),\n",
       " (4336, 0.24815058029004833),\n",
       " (4332, 0.2429173678578642),\n",
       " (4352, 0.23638918982053217),\n",
       " (4384, 0.2214314447525528),\n",
       " (4402, 0.21480827911882583),\n",
       " (4347, 0.21410511011261296),\n",
       " (4395, 0.19772372883577932),\n",
       " (4373, 0.19468152174720804),\n",
       " (4361, 0.1805642233235685),\n",
       " (4398, 0.18033539417727554),\n",
       " (4401, 0.17708588734382957),\n",
       " (4413, 0.17247182475629233),\n",
       " (4408, 0.16532820596420036)]"
      ]
     },
     "execution_count": 8,
     "metadata": {},
     "output_type": "execute_result"
    }
   ],
   "source": [
    "%time nxEig = nx.eigenvector_centrality(gx)\n",
    "sorted(nxEig.items(), key=operator.itemgetter(1), reverse=True)[:15]"
   ]
  },
  {
   "cell_type": "markdown",
   "metadata": {},
   "source": [
    "## Degree"
   ]
  },
  {
   "cell_type": "markdown",
   "metadata": {},
   "source": [
    "###### Degree centrality using networkx"
   ]
  },
  {
   "cell_type": "code",
   "execution_count": 39,
   "metadata": {
    "collapsed": false
   },
   "outputs": [
    {
     "name": "stdout",
     "output_type": "stream",
     "text": [
      "CPU times: user 3.33 ms, sys: 0 ns, total: 3.33 ms\n",
      "Wall time: 3.31 ms\n"
     ]
    },
    {
     "data": {
      "text/plain": [
       "[(1365, 0.16794961511546536),\n",
       " (620, 0.10671798460461861),\n",
       " (1325, 0.0755773268019594),\n",
       " (1746, 0.07207837648705388),\n",
       " (212, 0.06333100069979006),\n",
       " (2392, 0.058082575227431765),\n",
       " (508, 0.04478656403079076),\n",
       " (750, 0.04058782365290413),\n",
       " (2487, 0.03918824352694192),\n",
       " (2605, 0.0377886634009797),\n",
       " (417, 0.03603918824352694),\n",
       " (485, 0.027641707487753672),\n",
       " (1284, 0.02729181245626312),\n",
       " (215, 0.026592022393282014),\n",
       " (204, 0.026242127361791462)]"
      ]
     },
     "execution_count": 39,
     "metadata": {},
     "output_type": "execute_result"
    }
   ],
   "source": [
    "%time nxDeg = nx.degree_centrality(gx)\n",
    "sorted(nxDeg.items(), key=operator.itemgetter(1), reverse=True)[:15]"
   ]
  },
  {
   "cell_type": "markdown",
   "metadata": {},
   "source": [
    "###### Degree centrality using networkit"
   ]
  },
  {
   "cell_type": "code",
   "execution_count": 40,
   "metadata": {
    "collapsed": false
   },
   "outputs": [
    {
     "name": "stdout",
     "output_type": "stream",
     "text": [
      "CPU times: user 3.33 ms, sys: 3.33 ms, total: 6.67 ms\n",
      "Wall time: 3.2 ms\n"
     ]
    },
    {
     "data": {
      "text/plain": [
       "[(1365, 480.0),\n",
       " (620, 305.0),\n",
       " (1325, 216.0),\n",
       " (1746, 206.0),\n",
       " (212, 181.0),\n",
       " (2392, 166.0),\n",
       " (508, 128.0),\n",
       " (750, 116.0),\n",
       " (2487, 112.0),\n",
       " (2605, 108.0),\n",
       " (417, 103.0),\n",
       " (485, 79.0),\n",
       " (1284, 78.0),\n",
       " (215, 76.0),\n",
       " (204, 75.0)]"
      ]
     },
     "execution_count": 40,
     "metadata": {},
     "output_type": "execute_result"
    }
   ],
   "source": [
    "%time degree = nk.centrality.DegreeCentrality(g).run()\n",
    "nkDeg = degree.ranking()\n",
    "sorted(nkDeg, key=operator.itemgetter(1), reverse=True)[:15]"
   ]
  },
  {
   "cell_type": "markdown",
   "metadata": {},
   "source": [
    "## Closeness"
   ]
  },
  {
   "cell_type": "markdown",
   "metadata": {},
   "source": [
    "###### Closeness centrality using networkx"
   ]
  },
  {
   "cell_type": "code",
   "execution_count": 46,
   "metadata": {
    "collapsed": false
   },
   "outputs": [
    {
     "name": "stdout",
     "output_type": "stream",
     "text": [
      "CPU times: user 3.27 s, sys: 3.33 ms, total: 3.28 s\n",
      "Wall time: 3.43 s\n"
     ]
    },
    {
     "data": {
      "text/plain": [
       "[(984, 0.3823827202159973),\n",
       " (401, 0.3813530797711208),\n",
       " (799, 0.3777925975325108),\n",
       " (386, 0.3772893772893773),\n",
       " (170, 0.37454545454545457),\n",
       " (701, 0.37405084186200066),\n",
       " (652, 0.3729427254772877),\n",
       " (835, 0.3729427254772877),\n",
       " (537, 0.36965742251223493),\n",
       " (725, 0.36821579460513487),\n",
       " (522, 0.366311024894924),\n",
       " (438, 0.3661926308985132),\n",
       " (257, 0.3648953301127214),\n",
       " (265, 0.36395759717314485),\n",
       " (172, 0.3638407193320488)]"
      ]
     },
     "execution_count": 46,
     "metadata": {},
     "output_type": "execute_result"
    }
   ],
   "source": [
    "%time nxClos = nx.closeness_centrality(gx)\n",
    "sorted(nxClos.items(), key=operator.itemgetter(1), reverse=True)[:15]"
   ]
  },
  {
   "cell_type": "markdown",
   "metadata": {},
   "source": [
    "###### Closeness centrality using networkit"
   ]
  },
  {
   "cell_type": "code",
   "execution_count": 47,
   "metadata": {
    "collapsed": false
   },
   "outputs": [
    {
     "name": "stdout",
     "output_type": "stream",
     "text": [
      "CPU times: user 723 ms, sys: 0 ns, total: 723 ms\n",
      "Wall time: 377 ms\n"
     ]
    },
    {
     "data": {
      "text/plain": [
       "[(984, 0.0003374957813027337),\n",
       " (401, 0.0003365870077415012),\n",
       " (799, 0.00033344448149383126),\n",
       " (386, 0.000333000333000333),\n",
       " (170, 0.00033057851239669424),\n",
       " (701, 0.0003301419610432486),\n",
       " (652, 0.0003291639236339697),\n",
       " (835, 0.0003291639236339697),\n",
       " (537, 0.0003262642740619902),\n",
       " (725, 0.00032499187520311994),\n",
       " (522, 0.00032331070158422246),\n",
       " (438, 0.0003232062055591467),\n",
       " (257, 0.00032206119162640903),\n",
       " (265, 0.00032123353678124),\n",
       " (172, 0.0003211303789338471)]"
      ]
     },
     "execution_count": 47,
     "metadata": {},
     "output_type": "execute_result"
    }
   ],
   "source": [
    "%time closeness = nk.centrality.Closeness(g).run()\n",
    "nkClo = closeness.ranking()\n",
    "sorted(nkClo, key=operator.itemgetter(1), reverse=True)[:15]"
   ]
  }
 ],
 "metadata": {
  "kernelspec": {
   "display_name": "Python 3",
   "language": "python",
   "name": "python3"
  },
  "language_info": {
   "codemirror_mode": {
    "name": "ipython",
    "version": 3
   },
   "file_extension": ".py",
   "mimetype": "text/x-python",
   "name": "python",
   "nbconvert_exporter": "python",
   "pygments_lexer": "ipython3",
   "version": "3.4.3"
  }
 },
 "nbformat": 4,
 "nbformat_minor": 0
}
