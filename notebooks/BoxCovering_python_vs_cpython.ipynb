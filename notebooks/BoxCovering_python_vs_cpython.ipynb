{
 "cells": [
  {
   "cell_type": "markdown",
   "metadata": {},
   "source": [
    "## Box covering:  Cython vs Python implementation"
   ]
  },
  {
   "cell_type": "markdown",
   "metadata": {},
   "source": [
    "This notebook is intended to compare the computation of the fractal dimension using pure python and using cython."
   ]
  },
  {
   "cell_type": "markdown",
   "metadata": {},
   "source": [
    "######  Load the cython module"
   ]
  },
  {
   "cell_type": "code",
   "execution_count": 1,
   "metadata": {
    "collapsed": false
   },
   "outputs": [
    {
     "name": "stdout",
     "output_type": "stream",
     "text": [
      "/home/hernan/tesis/complexNetworksMeasurements/modules/dimension/boxCovering\n"
     ]
    }
   ],
   "source": [
    "cd '../modules/dimension/boxCovering/'"
   ]
  },
  {
   "cell_type": "code",
   "execution_count": 2,
   "metadata": {
    "collapsed": false
   },
   "outputs": [],
   "source": [
    "import pyximport; pyximport.install()\n",
    "import greedyColoringC"
   ]
  },
  {
   "cell_type": "markdown",
   "metadata": {},
   "source": [
    "######  Load the python module"
   ]
  },
  {
   "cell_type": "code",
   "execution_count": 3,
   "metadata": {
    "collapsed": true
   },
   "outputs": [],
   "source": [
    "import greedyColoring"
   ]
  },
  {
   "cell_type": "markdown",
   "metadata": {},
   "source": [
    "###### Load the networks to test"
   ]
  },
  {
   "cell_type": "code",
   "execution_count": 4,
   "metadata": {
    "collapsed": true
   },
   "outputs": [],
   "source": [
    "import networkit as nk\n",
    "\n",
    "dataPath = \"../../../data/realNetworks/\"\n",
    "\n",
    "celegans = nk.readGraph(dataPath + \"CElegans/celegans.gml\", nk.Format.GML)\n",
    "ecoli = nk.readGraph(dataPath + \"EColi/EColi.gml\", nk.Format.GML)"
   ]
  },
  {
   "cell_type": "markdown",
   "metadata": {},
   "source": [
    "###### Compute the box covering algorithm and compare results"
   ]
  },
  {
   "cell_type": "markdown",
   "metadata": {},
   "source": [
    "### Celegans"
   ]
  },
  {
   "cell_type": "markdown",
   "metadata": {},
   "source": [
    "Pure python"
   ]
  },
  {
   "cell_type": "code",
   "execution_count": 5,
   "metadata": {
    "collapsed": false
   },
   "outputs": [
    {
     "name": "stdout",
     "output_type": "stream",
     "text": [
      "[297, 93, 22, 7, 2, 1]\n",
      "[297, 88, 19, 8, 2, 1]\n",
      "[297, 95, 21, 7, 2, 1]\n",
      "[297, 91, 24, 8, 1, 1]\n",
      "1 loops, best of 3: 2.77 s per loop\n"
     ]
    }
   ],
   "source": [
    "%timeit greedyColoring.test(celegans);"
   ]
  },
  {
   "cell_type": "markdown",
   "metadata": {},
   "source": [
    "Cython"
   ]
  },
  {
   "cell_type": "code",
   "execution_count": 6,
   "metadata": {
    "collapsed": false
   },
   "outputs": [
    {
     "name": "stdout",
     "output_type": "stream",
     "text": [
      "[297, 143, 26, 8, 1, 1]\n",
      "[297, 140, 29, 9, 1, 1]\n",
      "[297, 142, 25, 9, 1, 1]\n",
      "[297, 139, 26, 11, 1, 1]\n",
      "[297, 144, 27, 10, 1, 1]\n",
      "[297, 142, 27, 10, 1, 1]\n",
      "[297, 145, 27, 8, 1, 1]\n",
      "[297, 144, 23, 9, 1, 1]\n",
      "[297, 142, 26, 9, 1, 1]\n",
      "[297, 139, 28, 9, 1, 1]\n",
      "[297, 139, 25, 9, 1, 1]\n",
      "[297, 138, 27, 10, 1, 1]\n",
      "[297, 141, 25, 8, 1, 1]\n",
      "[297, 146, 25, 11, 1, 1]\n",
      "[297, 143, 25, 9, 1, 1]\n",
      "[297, 142, 25, 10, 1, 1]\n",
      "[297, 143, 24, 9, 1, 1]\n",
      "[297, 136, 26, 8, 1, 1]\n",
      "[297, 142, 24, 9, 1, 1]\n",
      "[297, 142, 23, 10, 1, 1]\n",
      "[297, 143, 25, 8, 1, 1]\n",
      "[297, 142, 24, 6, 1, 1]\n",
      "[297, 140, 28, 7, 1, 1]\n",
      "[297, 141, 25, 10, 1, 1]\n",
      "[297, 142, 24, 12, 1, 1]\n",
      "[297, 141, 26, 10, 1, 1]\n",
      "[297, 142, 28, 7, 1, 1]\n",
      "[297, 138, 27, 10, 1, 1]\n",
      "[297, 139, 26, 10, 1, 1]\n",
      "[297, 142, 28, 8, 1, 1]\n",
      "[297, 145, 24, 9, 1, 1]\n",
      "[297, 142, 28, 10, 1, 1]\n",
      "[297, 145, 26, 7, 1, 1]\n",
      "[297, 144, 26, 9, 1, 1]\n",
      "[297, 143, 26, 9, 1, 1]\n",
      "[297, 143, 27, 9, 1, 1]\n",
      "[297, 140, 27, 8, 1, 1]\n",
      "[297, 143, 26, 9, 1, 1]\n",
      "[297, 138, 27, 8, 1, 1]\n",
      "[297, 142, 24, 8, 1, 1]\n",
      "[297, 141, 26, 9, 1, 1]\n",
      "10 loops, best of 3: 92.7 ms per loop\n"
     ]
    }
   ],
   "source": [
    "%timeit greedyColoringC.test(celegans);"
   ]
  },
  {
   "cell_type": "markdown",
   "metadata": {},
   "source": [
    "######  Comparison \n",
    "\n",
    "For this network the cython implementation is **29 times** faster than the pure python implementation."
   ]
  },
  {
   "cell_type": "markdown",
   "metadata": {},
   "source": [
    "### E. Coli"
   ]
  },
  {
   "cell_type": "markdown",
   "metadata": {},
   "source": [
    "As the time required to execute the box covering on the EColi network is over 10 minutes, it will be tested only once."
   ]
  },
  {
   "cell_type": "code",
   "execution_count": 8,
   "metadata": {
    "collapsed": false
   },
   "outputs": [
    {
     "name": "stdout",
     "output_type": "stream",
     "text": [
      "[2859, 1135, 502, 445, 146, 120, 50, 41, 18, 17, 11, 9, 6, 5, 4, 3, 2, 1, 1]\n",
      "CPU times: user 20min 51s, sys: 1.44 s, total: 20min 53s\n",
      "Wall time: 20min 59s\n"
     ]
    }
   ],
   "source": [
    "%time greedyColoring.test(ecoli)"
   ]
  },
  {
   "cell_type": "code",
   "execution_count": 11,
   "metadata": {
    "collapsed": false
   },
   "outputs": [
    {
     "name": "stdout",
     "output_type": "stream",
     "text": [
      "[2859, 1935, 647, 574, 168, 156, 59, 50, 24, 17, 11, 9, 6, 4, 3, 2, 2, 1, 1]\n",
      "CPU times: user 9.37 s, sys: 73.3 ms, total: 9.44 s\n",
      "Wall time: 9.56 s\n"
     ]
    }
   ],
   "source": [
    "%time greedyColoringC.test(ecoli)"
   ]
  },
  {
   "cell_type": "markdown",
   "metadata": {},
   "source": [
    "###### Comparison\n",
    "\n",
    "For this network we can see that the cython implementation of the box covering algorithm is **129 times** faster than the pure python implementation"
   ]
  },
  {
   "cell_type": "markdown",
   "metadata": {},
   "source": [
    "###  Conclusion\n",
    "\n",
    "As we can see with the two examples above, the cython implementation of the box covering algorithm is faster than the pure implementation. Additionally, as the size of the network increases the cython implementation will obtain better results given that it will perform each loop faster."
   ]
  }
 ],
 "metadata": {
  "kernelspec": {
   "display_name": "Python 3",
   "language": "python",
   "name": "python3"
  },
  "language_info": {
   "codemirror_mode": {
    "name": "ipython",
    "version": 3
   },
   "file_extension": ".py",
   "mimetype": "text/x-python",
   "name": "python",
   "nbconvert_exporter": "python",
   "pygments_lexer": "ipython3",
   "version": "3.5.0"
  }
 },
 "nbformat": 4,
 "nbformat_minor": 0
}
