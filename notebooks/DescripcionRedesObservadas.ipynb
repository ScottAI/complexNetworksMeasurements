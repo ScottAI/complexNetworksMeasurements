{
 "cells": [
  {
   "cell_type": "markdown",
   "metadata": {},
   "source": [
    "### Import the libraries used to load and describe the networks"
   ]
  },
  {
   "cell_type": "code",
   "execution_count": 3,
   "metadata": {
    "collapsed": true
   },
   "outputs": [],
   "source": [
    "import networkit as nk"
   ]
  },
  {
   "cell_type": "markdown",
   "metadata": {},
   "source": [
    "#### American college football network"
   ]
  },
  {
   "cell_type": "code",
   "execution_count": 2,
   "metadata": {
    "collapsed": false
   },
   "outputs": [
    {
     "name": "stdout",
     "output_type": "stream",
     "text": [
      "Calculating best minimal value for power law fit\n",
      "<_NetworKit.PLM object at 0x7f2625ed61d0>\n",
      "\n",
      "Network Properties: football\n",
      "==================\n",
      "Basic Properties\n",
      "-------------------------  --------------\n",
      "nodes, edges               115, 613\n",
      "directed?                  False\n",
      "weighted?                  False\n",
      "isolated nodes             0\n",
      "self-loops                 0\n",
      "density                    0.093516\n",
      "clustering coefficient     0.403023\n",
      "max. core number           8\n",
      "Noneconnected components   1\n",
      "size of largest component  115 (100.00 %)\n",
      "estimated diameter range   (4, 4)\n",
      "-------------------------  --------------\n",
      "Node Degree Properties\n",
      "-----------------------------  ---------------------\n",
      "min./max. degree               (7 / 12)\n",
      "avg. degree                    10.660870\n",
      "power law?, likelihood, gamma  True, 8.5620, 75.7029\n",
      "degree assortativity           0.1624\n",
      "-----------------------------  ---------------------\n",
      "Community Structure\n",
      "-------------------------  -----------  --------\n",
      "community detection (PLM)\n",
      "                           communities  9\n",
      "                           modularity   0.604407\n",
      "-------------------------  -----------  --------\n",
      "Degree Distribution\n",
      "-------------------\n",
      "0-   :  |   0.00\n",
      "1-   :  |   0.00\n",
      "2-   :  |   0.00\n",
      "3-   :  |   0.00\n",
      "4-   :  |   0.00\n",
      "5-   :  |   0.00\n",
      "6-   :  |   0.00\n",
      "7-   :  |   1.00\n",
      "8-   :  ▇▇   3.00\n",
      "9-   :  ▇▇▇   5.00\n",
      "10-  :  ▇▇▇▇▇▇▇▇▇▇▇▇▇▇▇▇▇▇▇▇▇  28.00\n",
      "11-  :  ▇▇▇▇▇▇▇▇▇▇▇▇▇▇▇▇▇▇▇▇▇▇▇▇▇▇▇▇▇▇▇▇▇▇▇▇▇▇▇▇▇▇▇▇▇▇▇▇▇▇  66.00\n",
      "12-  :  ▇▇▇▇▇▇▇▇▇  12.00\n",
      "13-  :  |   0.00\n",
      "14-  :  |   0.00\n",
      "15-  :  |   0.00\n",
      "16-  :  |   0.00\n",
      "17-  :  |   0.00\n",
      "18-  :  |   0.00\n",
      "19-  :  |   0.00\n",
      "20-  :  |   0.00\n",
      "21-  :  |   0.00\n",
      "22-  :  |   0.00\n",
      "23-  :  |   0.00\n",
      "24-  :  |   0.00\n",
      "\n"
     ]
    }
   ],
   "source": [
    "name = \"American College football/football.gml\"\n",
    "graph = nk.readGraph(name, nk.Format.GML)\n",
    "nk.properties.overview(graph)"
   ]
  },
  {
   "cell_type": "markdown",
   "metadata": {
    "collapsed": true
   },
   "source": [
    "#### Dolphins social network"
   ]
  },
  {
   "cell_type": "code",
   "execution_count": 3,
   "metadata": {
    "collapsed": false
   },
   "outputs": [
    {
     "name": "stdout",
     "output_type": "stream",
     "text": [
      "Calculating best minimal value for power law fit\n",
      "<_NetworKit.PLM object at 0x7f2625ed6898>\n",
      "\n",
      "Network Properties: dolphins\n",
      "==================\n",
      "Basic Properties\n",
      "-------------------------  -------------\n",
      "nodes, edges               62, 159\n",
      "directed?                  False\n",
      "weighted?                  False\n",
      "isolated nodes             0\n",
      "self-loops                 0\n",
      "density                    0.084082\n",
      "clustering coefficient     0.302932\n",
      "max. core number           4\n",
      "Noneconnected components   1\n",
      "size of largest component  62 (100.00 %)\n",
      "estimated diameter range   (8, 8)\n",
      "-------------------------  -------------\n",
      "Node Degree Properties\n",
      "-----------------------------  ----------------------\n",
      "min./max. degree               (1 / 12)\n",
      "avg. degree                    5.129032\n",
      "power law?, likelihood, gamma  False, -0.4994, 5.1306\n",
      "degree assortativity           -0.0436\n",
      "-----------------------------  ----------------------\n",
      "Community Structure\n",
      "-------------------------  -----------  --------\n",
      "community detection (PLM)\n",
      "                           communities  5\n",
      "                           modularity   0.523338\n",
      "-------------------------  -----------  --------\n",
      "Degree Distribution\n",
      "-------------------\n",
      "0-   :  |   0.00\n",
      "1-   :  ▇▇▇▇▇▇▇▇▇▇▇▇▇▇▇▇▇▇▇▇▇▇▇▇▇▇▇▇▇▇▇▇▇▇▇▇▇▇▇▇▇▇▇▇▇▇▇▇▇▇   9.00\n",
      "2-   :  ▇▇▇▇▇▇▇▇▇▇▇▇▇▇▇▇▇▇▇▇▇▇▇▇▇▇▇▇▇▇▇▇▇   6.00\n",
      "3-   :  ▇▇▇▇▇▇▇▇▇▇▇▇▇▇▇▇▇▇▇▇▇▇▇▇▇▇▇▇▇▇▇▇▇   6.00\n",
      "4-   :  ▇▇▇▇▇▇▇▇▇▇▇▇▇▇▇▇▇▇▇▇▇▇▇▇▇▇▇   5.00\n",
      "5-   :  ▇▇▇▇▇▇▇▇▇▇▇▇▇▇▇▇▇▇▇▇▇▇▇▇▇▇▇▇▇▇▇▇▇▇▇▇▇▇▇▇▇▇▇▇   8.00\n",
      "6-   :  ▇▇▇▇▇▇▇▇▇▇▇▇▇▇▇▇▇▇▇▇▇▇▇▇▇▇▇▇▇▇▇▇▇▇▇▇▇▇▇▇▇▇▇▇   8.00\n",
      "7-   :  ▇▇▇▇▇▇▇▇▇▇▇▇▇▇▇▇▇▇▇▇▇▇▇▇▇▇▇▇▇▇▇▇▇▇▇▇▇▇   7.00\n",
      "8-   :  ▇▇▇▇▇▇▇▇▇▇▇▇▇▇▇▇▇▇▇▇▇▇   4.00\n",
      "9-   :  ▇▇▇▇▇▇▇▇▇▇▇▇▇▇▇▇▇▇▇▇▇▇   4.00\n",
      "10-  :  ▇▇▇▇▇▇▇▇▇▇▇   2.00\n",
      "11-  :  ▇▇▇▇▇▇▇▇▇▇▇   2.00\n",
      "12-  :  ▇▇▇▇▇   1.00\n",
      "13-  :  |   0.00\n",
      "14-  :  |   0.00\n",
      "15-  :  |   0.00\n",
      "16-  :  |   0.00\n",
      "17-  :  |   0.00\n",
      "18-  :  |   0.00\n",
      "19-  :  |   0.00\n",
      "20-  :  |   0.00\n",
      "21-  :  |   0.00\n",
      "22-  :  |   0.00\n",
      "23-  :  |   0.00\n",
      "24-  :  |   0.00\n",
      "\n"
     ]
    }
   ],
   "source": [
    "name = \"Dolphin social network/dolphins.gml\"\n",
    "graph = nk.readGraph(name, nk.Format.GML)\n",
    "nk.properties.overview(graph)"
   ]
  },
  {
   "cell_type": "markdown",
   "metadata": {},
   "source": [
    "###### Email network"
   ]
  },
  {
   "cell_type": "code",
   "execution_count": 4,
   "metadata": {
    "collapsed": false
   },
   "outputs": [
    {
     "name": "stdout",
     "output_type": "stream",
     "text": [
      "Value 0 in data. Throwing out 0 values\n",
      "Calculating best minimal value for power law fit\n",
      "Error, the diameter of directed graphs cannot be computed yet.\n",
      "\n",
      "Network Properties: email\n",
      "==================\n",
      "Basic Properties\n",
      "-----------------------------  -----------------------------------\n",
      "nodes, edges                   1134, 10904\n",
      "directed?                      True\n",
      "weighted?                      False\n",
      "isolated nodes                 0\n",
      "self-loops                     1\n",
      "density                        0.008487\n",
      "clustering coefficient         Not implemented for directed graphs\n",
      "max. core number               22\n",
      "strongly connected components  2\n",
      "size of largest component      1133 (99.91 %)\n",
      "estimated diameter range       Not implemented for directed graphs\n",
      "-----------------------------  -----------------------------------\n",
      "Node Degree Properties\n",
      "--------------------------------------  --------------------\n",
      "min./max. degree (in,out)               ((1, 0) / (71, 0))\n",
      "avg. degree                             9.615520\n",
      "power law?, likelihood, gamma           True, 0.3790, 7.2817\n",
      "degree assortativity (in,in),(out,out)  0.0813, 0.0812\n",
      "--------------------------------------  --------------------\n",
      "Degree Distribution (in+out)\n",
      "-------------------\n",
      "0-   :  ▇▇▇▇▇▇▇▇▇▇▇▇▇▇▇▇▇▇▇▇▇▇▇▇▇▇▇▇▇▇▇▇▇▇▇▇▇▇▇▇▇▇▇▇▇▇▇ 151.00\n",
      "3-   :  ▇▇▇▇▇▇▇▇▇▇▇▇▇▇▇▇▇▇▇▇▇▇▇▇▇▇▇▇▇▇▇▇▇▇▇▇▇ 117.00\n",
      "6-   :  ▇▇▇▇▇▇▇▇▇▇▇▇▇▇▇▇▇▇▇▇▇▇▇▇▇▇▇▇▇▇▇▇▇▇▇▇▇▇▇▇▇▇▇▇▇▇▇▇▇▇ 158.00\n",
      "9-   :  ▇▇▇▇▇▇▇▇▇▇▇▇▇▇▇▇▇▇▇▇▇▇  71.00\n",
      "12-  :  ▇▇▇▇▇▇▇▇▇▇▇▇▇▇▇▇▇▇▇▇▇▇▇▇▇▇▇▇▇▇▇▇▇▇▇ 112.00\n",
      "15-  :  ▇▇▇▇▇▇▇▇▇▇▇▇▇▇▇  48.00\n",
      "18-  :  ▇▇▇▇▇▇▇▇▇▇▇▇▇▇▇▇▇▇▇▇▇▇▇▇▇▇▇  88.00\n",
      "21-  :  ▇▇▇▇▇▇▇▇▇▇▇▇▇  42.00\n",
      "24-  :  ▇▇▇▇▇▇▇▇▇▇▇▇▇▇▇▇▇▇▇▇▇▇▇▇▇  81.00\n",
      "27-  :  ▇▇▇▇▇▇▇  25.00\n",
      "30-  :  ▇▇▇▇▇▇▇▇▇▇▇▇  41.00\n",
      "33-  :  ▇▇▇▇  15.00\n",
      "36-  :  ▇▇▇▇▇▇▇▇  28.00\n",
      "39-  :  ▇▇▇  12.00\n",
      "42-  :  ▇▇▇▇▇▇▇▇▇  30.00\n",
      "45-  :  ▇▇▇  12.00\n",
      "48-  :  ▇▇▇▇▇  18.00\n",
      "51-  :  ▇▇▇  11.00\n",
      "54-  :  ▇▇▇  12.00\n",
      "57-  :  ▇▇▇  10.00\n",
      "60-  :  ▇▇▇  10.00\n",
      "63-  :  ▇   5.00\n",
      "66-  :  ▇   5.00\n",
      "69-  :  ▇   4.00\n",
      "72-  :  |   0.00\n",
      "\n"
     ]
    }
   ],
   "source": [
    "name = \"Email network/email.gml\"\n",
    "graph = nk.readGraph(name, nk.Format.GML)\n",
    "nk.properties.overview(graph)"
   ]
  },
  {
   "cell_type": "markdown",
   "metadata": {},
   "source": [
    "#### Power grid"
   ]
  },
  {
   "cell_type": "code",
   "execution_count": 5,
   "metadata": {
    "collapsed": false
   },
   "outputs": [
    {
     "name": "stdout",
     "output_type": "stream",
     "text": [
      "Calculating best minimal value for power law fit\n",
      "<_NetworKit.PLM object at 0x7f2625ed6860>\n",
      "\n",
      "Network Properties: power\n",
      "==================\n",
      "Basic Properties\n",
      "-------------------------  ---------------\n",
      "nodes, edges               4941, 6594\n",
      "directed?                  False\n",
      "weighted?                  False\n",
      "isolated nodes             0\n",
      "self-loops                 0\n",
      "density                    0.000540\n",
      "clustering coefficient     0.109485\n",
      "max. core number           5\n",
      "Noneconnected components   1\n",
      "size of largest component  4941 (100.00 %)\n",
      "estimated diameter range   (46, 50)\n",
      "-------------------------  ---------------\n",
      "Node Degree Properties\n",
      "-----------------------------  ---------------------\n",
      "min./max. degree               (1 / 19)\n",
      "avg. degree                    2.669095\n",
      "power law?, likelihood, gamma  True, 2.5300, 10.4358\n",
      "degree assortativity           0.0035\n",
      "-----------------------------  ---------------------\n",
      "Community Structure\n",
      "-------------------------  -----------  --------\n",
      "community detection (PLM)\n",
      "                           communities  40\n",
      "                           modularity   0.936354\n",
      "-------------------------  -----------  --------\n",
      "Degree Distribution\n",
      "-------------------\n",
      "0-   :  |   0.00\n",
      "1-   :  ▇▇▇▇▇▇▇▇▇▇▇▇▇▇▇▇▇▇▇▇▇▇▇▇▇▇▇▇▇▇▇▇▇▇▇▇▇1226.00\n",
      "2-   :  ▇▇▇▇▇▇▇▇▇▇▇▇▇▇▇▇▇▇▇▇▇▇▇▇▇▇▇▇▇▇▇▇▇▇▇▇▇▇▇▇▇▇▇▇▇▇▇▇▇▇1656.00\n",
      "3-   :  ▇▇▇▇▇▇▇▇▇▇▇▇▇▇▇▇▇▇▇▇▇▇▇▇▇▇▇▇▇▇▇▇1060.00\n",
      "4-   :  ▇▇▇▇▇▇▇▇▇▇▇▇ 401.00\n",
      "5-   :  ▇▇▇▇▇▇▇ 252.00\n",
      "6-   :  ▇▇▇▇ 137.00\n",
      "7-   :  ▇▇  84.00\n",
      "8-   :  ▇  46.00\n",
      "9-   :  |  27.00\n",
      "10-  :  |  26.00\n",
      "11-  :  |  11.00\n",
      "12-  :  |   5.00\n",
      "13-  :  |   5.00\n",
      "14-  :  |   3.00\n",
      "15-  :  |   0.00\n",
      "16-  :  |   0.00\n",
      "17-  :  |   0.00\n",
      "18-  :  |   1.00\n",
      "19-  :  |   1.00\n",
      "20-  :  |   0.00\n",
      "21-  :  |   0.00\n",
      "22-  :  |   0.00\n",
      "23-  :  |   0.00\n",
      "24-  :  |   0.00\n",
      "\n"
     ]
    }
   ],
   "source": [
    "name = \"Power grid/power.gml\"\n",
    "graph = nk.readGraph(name, nk.Format.GML)\n",
    "nk.properties.overview(graph)"
   ]
  },
  {
   "cell_type": "markdown",
   "metadata": {},
   "source": [
    "#### C. Elegans"
   ]
  },
  {
   "cell_type": "code",
   "execution_count": 7,
   "metadata": {
    "collapsed": false
   },
   "outputs": [
    {
     "name": "stdout",
     "output_type": "stream",
     "text": [
      "Calculating best minimal value for power law fit\n",
      "<_NetworKit.PLM object at 0x7f26241a42e8>\n",
      "\n",
      "Network Properties: celegans\n",
      "==================\n",
      "Basic Properties\n",
      "-------------------------  --------------\n",
      "nodes, edges               297, 2148\n",
      "directed?                  False\n",
      "weighted?                  False\n",
      "isolated nodes             0\n",
      "self-loops                 0\n",
      "density                    0.048867\n",
      "clustering coefficient     0.307088\n",
      "max. core number           10\n",
      "Noneconnected components   1\n",
      "size of largest component  297 (100.00 %)\n",
      "estimated diameter range   (5, 5)\n",
      "-------------------------  --------------\n",
      "Node Degree Properties\n",
      "-----------------------------  --------------------\n",
      "min./max. degree               (1 / 134)\n",
      "avg. degree                    14.464646\n",
      "power law?, likelihood, gamma  True, 2.3014, 3.5376\n",
      "degree assortativity           -0.1632\n",
      "-----------------------------  --------------------\n",
      "Community Structure\n",
      "-------------------------  -----------  --------\n",
      "community detection (PLM)\n",
      "                           communities  5\n",
      "                           modularity   0.402055\n",
      "-------------------------  -----------  --------\n",
      "Degree Distribution\n",
      "-------------------\n",
      "0-   :  ▇▇▇▇▇▇▇▇▇▇▇▇▇▇▇▇▇▇▇▇▇▇  45.00\n",
      "6-   :  ▇▇▇▇▇▇▇▇▇▇▇▇▇▇▇▇▇▇▇▇▇▇▇▇▇▇▇▇▇▇▇▇▇▇▇▇▇▇▇▇▇▇▇▇▇▇▇▇▇▇ 101.00\n",
      "12-  :  ▇▇▇▇▇▇▇▇▇▇▇▇▇▇▇▇▇▇▇▇▇▇▇▇▇▇▇▇▇▇▇▇▇▇▇▇▇▇▇  80.00\n",
      "18-  :  ▇▇▇▇▇▇▇▇▇▇▇▇▇▇▇▇▇▇  38.00\n",
      "24-  :  ▇▇▇▇▇▇  13.00\n",
      "30-  :  ▇▇   6.00\n",
      "36-  :  |   2.00\n",
      "42-  :  |   1.00\n",
      "48-  :  ▇▇▇   7.00\n",
      "54-  :  |   1.00\n",
      "60-  :  |   0.00\n",
      "66-  :  |   0.00\n",
      "72-  :  |   2.00\n",
      "78-  :  |   0.00\n",
      "84-  :  |   0.00\n",
      "90-  :  |   0.00\n",
      "96-  :  |   0.00\n",
      "102- :  |   0.00\n",
      "108- :  |   0.00\n",
      "114- :  |   0.00\n",
      "120- :  |   0.00\n",
      "126- :  |   0.00\n",
      "132- :  |   1.00\n",
      "138- :  |   0.00\n",
      "144- :  |   0.00\n",
      "\n"
     ]
    }
   ],
   "source": [
    "name = \"CElegans/celegans.gml\"\n",
    "football = nk.readGraph(name, nk.Format.GML)\n",
    "nk.properties.overview(football)"
   ]
  },
  {
   "cell_type": "markdown",
   "metadata": {},
   "source": [
    "#### E. Coli"
   ]
  },
  {
   "cell_type": "code",
   "execution_count": 2,
   "metadata": {
    "collapsed": false
   },
   "outputs": [
    {
     "name": "stdout",
     "output_type": "stream",
     "text": [
      "Calculating best minimal value for power law fit\n",
      "<_NetworKit.PLM object at 0x7faf8239f748>\n",
      "\n",
      "Network Properties: G#15\n",
      "==================\n",
      "Basic Properties\n",
      "-------------------------  -----------------------------------\n",
      "nodes, edges               2859, 6890\n",
      "directed?                  False\n",
      "weighted?                  False\n",
      "isolated nodes             0\n",
      "self-loops                 0\n",
      "density                    0.001686\n",
      "clustering coefficient     Not implemented for directed graphs\n",
      "max. core number           5\n",
      "Noneconnected components   1\n",
      "size of largest component  2859 (100.00 %)\n",
      "estimated diameter range   (18, 18)\n",
      "-------------------------  -----------------------------------\n",
      "Node Degree Properties\n",
      "-----------------------------  --------------------\n",
      "min./max. degree               (1 / 480)\n",
      "avg. degree                    4.819867\n",
      "power law?, likelihood, gamma  True, 5.3856, 2.4509\n",
      "degree assortativity           -0.1618\n",
      "-----------------------------  --------------------\n",
      "Community Structure\n",
      "-------------------------  -----------  --------\n",
      "community detection (PLM)\n",
      "                           communities  29\n",
      "                           modularity   0.621191\n",
      "-------------------------  -----------  --------\n",
      "Degree Distribution\n",
      "-------------------\n",
      "0-   :  ▇▇▇▇▇▇▇▇▇▇▇▇▇▇▇▇▇▇▇▇▇▇▇▇▇▇▇▇▇▇▇▇▇▇▇▇▇▇▇▇▇▇▇▇▇▇▇▇▇▇2818.00\n",
      "20-  :  |  22.00\n",
      "40-  :  |   3.00\n",
      "60-  :  |   5.00\n",
      "80-  :  |   0.00\n",
      "100- :  |   4.00\n",
      "120- :  |   1.00\n",
      "140- :  |   0.00\n",
      "160- :  |   1.00\n",
      "180- :  |   1.00\n",
      "200- :  |   2.00\n",
      "220- :  |   0.00\n",
      "240- :  |   0.00\n",
      "260- :  |   0.00\n",
      "280- :  |   0.00\n",
      "300- :  |   1.00\n",
      "320- :  |   0.00\n",
      "340- :  |   0.00\n",
      "360- :  |   0.00\n",
      "380- :  |   0.00\n",
      "400- :  |   0.00\n",
      "420- :  |   0.00\n",
      "440- :  |   0.00\n",
      "460- :  |   0.00\n",
      "480- :  |   1.00\n",
      "\n"
     ]
    }
   ],
   "source": [
    "name = \"EColi/EColi.gml\"\n",
    "football = nk.readGraph(name, nk.Format.GML).toUndirected()\n",
    "nk.properties.overview(football)"
   ]
  }
 ],
 "metadata": {
  "kernelspec": {
   "display_name": "Python 3",
   "language": "python",
   "name": "python3"
  },
  "language_info": {
   "codemirror_mode": {
    "name": "ipython",
    "version": 3
   },
   "file_extension": ".py",
   "mimetype": "text/x-python",
   "name": "python",
   "nbconvert_exporter": "python",
   "pygments_lexer": "ipython3",
   "version": "3.4.3"
  }
 },
 "nbformat": 4,
 "nbformat_minor": 0
}
